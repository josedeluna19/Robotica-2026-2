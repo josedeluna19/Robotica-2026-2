{
 "cells": [
  {
   "cell_type": "markdown",
   "id": "ac66e440",
   "metadata": {},
   "source": [
    "### Calculadora Basica (2 parametros)"
   ]
  },
  {
   "cell_type": "code",
   "execution_count": null,
   "id": "6286ff38",
   "metadata": {},
   "outputs": [],
   "source": [
    "class calculadora:\n",
    "    \n",
    "    def suma(self, a, b):\n",
    "        resultado=a+b\n",
    "        print(f\"La suma de {a} + {b} = {resultado}\")\n",
    "        return resultado\n",
    "    def multi(self, a, b):\n",
    "        resultado=a*b\n",
    "        print(f\"La multiplicacion de {a} * {b} = {resultado}\")\n",
    "        return resultado\n",
    "\n",
    "print(\"Las operaciones a relizar \\n1. Suma \\n2. Multiplicacion\")\n",
    "\n",
    "calc=calculadora()\n",
    "\n",
    "c=int(input(\"Escoge (1 o 2): \"))\n",
    "a=float(input(\"Valor para a\"))\n",
    "b=float(input(\"Valor para b\"))\n",
    "\n",
    "if c==1:\n",
    "    calc.suma(a,b)\n",
    "elif c==2:\n",
    "    calc.multi(a,b)\n",
    "else:\n",
    "    print(\"No valido\")\n",
    "\n",
    "print(\"Termino del programa\")\n",
    "\n",
    "\n"
   ]
  },
  {
   "cell_type": "markdown",
   "id": "f5064853",
   "metadata": {},
   "source": [
    "### Calculadora Basica (infinita de parametros)"
   ]
  },
  {
   "cell_type": "code",
   "execution_count": 14,
   "id": "aebddda4",
   "metadata": {},
   "outputs": [
    {
     "name": "stdout",
     "output_type": "stream",
     "text": [
      "Las operaciones a relizar \n",
      "1. Suma \n",
      "2. Multiplicacion\n",
      "El resultado de la multiplicacion es de:  166.375\n",
      "Termino del programa\n"
     ]
    }
   ],
   "source": [
    "class calculadora:\n",
    "    \n",
    "    def suma(self,numeros):\n",
    "        resultado=sum(numeros)\n",
    "        print(f\"El resultado de la suma es de: {resultado} \")\n",
    "        return resultado\n",
    "    def multi(self, numeros):\n",
    "        resultados = 1\n",
    "        for num in numeros:\n",
    "            resultados *=num\n",
    "        print(f\"El resultado de la multiplicacion es de:  {resultados}\")\n",
    "        return resultados\n",
    "\n",
    "print(\"Las operaciones a relizar \\n1. Suma \\n2. Multiplicacion\")\n",
    "\n",
    "calc=calculadora()\n",
    "\n",
    "c=int(input(\"Escoge (1 o 2): \"))\n",
    "entrada=(input(\"Escribe los valores a operar por espacios: \"))\n",
    "numeros = [float(x) for x in entrada.split()]\n",
    "\n",
    "if c == 1:\n",
    "    calc.suma(numeros)\n",
    "elif c == 2:\n",
    "    calc.multi(numeros)\n",
    "else:\n",
    "    print(\"Opción no válida\")\n",
    "\n",
    "print(\"Termino del programa\")\n",
    "\n"
   ]
  }
 ],
 "metadata": {
  "kernelspec": {
   "display_name": "Python 3",
   "language": "python",
   "name": "python3"
  },
  "language_info": {
   "codemirror_mode": {
    "name": "ipython",
    "version": 3
   },
   "file_extension": ".py",
   "mimetype": "text/x-python",
   "name": "python",
   "nbconvert_exporter": "python",
   "pygments_lexer": "ipython3",
   "version": "3.10.12"
  }
 },
 "nbformat": 4,
 "nbformat_minor": 5
}
