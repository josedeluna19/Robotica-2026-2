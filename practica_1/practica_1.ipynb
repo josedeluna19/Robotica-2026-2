{
 "cells": [
  {
   "cell_type": "markdown",
   "id": "4ad60680-68ce-410c-b0e2-b4c1c133cd82",
   "metadata": {},
   "source": [
    "# Práctica 1: Manejo básico de herramientas"
   ]
  },
  {
   "cell_type": "markdown",
   "id": "0364f5ab",
   "metadata": {},
   "source": [
    "## Objetivo\n",
    "\n",
    "Que el alumno haga uso de las funciones de uso básico de las herramientas del curso (Ubuntu, Python, Jupyter, Github)"
   ]
  },
  {
   "cell_type": "markdown",
   "id": "283d924e",
   "metadata": {},
   "source": [
    "### Metas\n",
    "\n",
    "Que el alumno:\n",
    "- Integre texto en Markdown dentro de Jupyter\n",
    "- Integre código de Python dentro de Jupyter\n",
    "- Haga uso de la terminal de Ubuntu y contruya un script de bash\n",
    "- Genere un repositorio en GitHub y comparta su archivo de práctica"
   ]
  },
  {
   "cell_type": "markdown",
   "id": "66021773",
   "metadata": {},
   "source": [
    "### Contribución al perfil del egresado\n",
    "\n",
    "La siguiente práctica contribuye en los siguientes puntos al perfil del egresado:"
   ]
  },
  {
   "cell_type": "markdown",
   "id": "650038e0",
   "metadata": {},
   "source": [
    "#### Aptitudes y habilidades\n",
    "\n",
    "- Para diseñar, construir, operar y mantener los sistemas mecatrónicos y sus componentes.\n",
    "- Para crear, innovar o evaluar las tecnologías relacionadas con la mecatrónica."
   ]
  },
  {
   "cell_type": "markdown",
   "id": "35e56fe2",
   "metadata": {},
   "source": [
    "#### Actitudes profesionales\n",
    "\n",
    "- Ser creativo e innovador.\n",
    "- Tener confianza en su preparación académica.\n",
    "- Comprometido con su actualización, superación y competencia profesional."
   ]
  },
  {
   "cell_type": "markdown",
   "id": "33ee9807",
   "metadata": {},
   "source": [
    "#### Actitudes de tipo social\n",
    "\n",
    "- Promover el cambio en la mentalidad frente a la competitividad internacional."
   ]
  },
  {
   "cell_type": "markdown",
   "id": "3db59ed8",
   "metadata": {},
   "source": [
    "## Rúbrica de evaluación"
   ]
  },
  {
   "cell_type": "markdown",
   "id": "f6c7cd2e",
   "metadata": {},
   "source": [
    "### La evaluación de la práctica contará de los siguientes puntos\n",
    "\n",
    "| Elemento | Porcentaje |\n",
    "| ------:| ----------- |\n",
    "| **Cuestionario previo** | 15% | \n",
    "| **Desarrollo** | 35% |\n",
    "| **Análisis de resultados**  | 35% |\n",
    "| **Conclusiones** | 15% |"
   ]
  },
  {
   "cell_type": "markdown",
   "id": "57741f8a",
   "metadata": {},
   "source": [
    "### Se evaluará con los siguientes criterios:\n",
    "\n",
    "| Elemento | Malo | Regular | Bueno |\n",
    "| ------:| ------ | --------| ------|\n",
    "| **Cuestionario previo** | El trabajo no contiene cuestionario previo o todas las preguntas son incorrectas (0%)| Al menos la mitad de las preguntas son correctas (8%) |  Todas las preguntas son correctas (15%) |\n",
    "| **Desarrollo** | El trabajo no contiene desarrollo o su planteamiento no concuerda con lo deseado (0%) | El desarrollo está mal planteado o no llega a los resultados esperados (10%) | El desarrollo tiene un planteamiento adecuado y llega a los resultados esperados (35%) |\n",
    "| **Análisis de resultados**  | El trabajo no contiene análisis de resultados o la información no se está interpretando correctamente (0%) | La interpretación de los resultados es parcial o desorganizada (10%) | Realiza un correcto análisis de los resultados de forma organizada   (35%) |\n",
    "| **Conclusiones** | El trabajo no contiene conclusiones o no hacen referencia al trabajo desarrollado y los objetivos planteados (0%) | La redacción de las conclusiones es desorganizada o confusa (8%) | Las conclusiones del trabajo son claras y hacen referencia al trabajo desarrollado y los objetivos planteados (15%) | "
   ]
  },
  {
   "cell_type": "markdown",
   "id": "e5ff673e-01fd-4484-99fe-3a26e38c516e",
   "metadata": {},
   "source": [
    "## Introducción"
   ]
  },
  {
   "cell_type": "markdown",
   "id": "dafaaa10",
   "metadata": {},
   "source": [
    "En el desarrollo de la robótica moderna, es fundamental contar con un dominio básico de herramientas digitales que permiten documentar, programar y compartir proyectos.\n",
    "\n",
    "- <img src=\"images/Ubuntu-logo.png\" height=60/> **Ubuntu** es un sistema operativo basado en Linux, muy usado en investigación y robótica gracias a su estabilidad y compatibilidad con librerías como ROS. El manejo de la terminal es esencial para automatizar tareas y ejecutar programas de manera eficiente.\n",
    "\n",
    "\n",
    "\n",
    "- <img src=\"images/Jupyter-logo.png\" height=60/> **Jupyter** es una herramienta interactiva que facilita combinar texto, código y resultados en un mismo documento. Se utiliza ampliamente en ciencia de datos, aprendizaje automático y simulación robótica. Para texto utiliza el formato **Markdown**.\n",
    "\n",
    "\n",
    "\n",
    "- <img src=\"images/Python-logo.png\" height=60/> **Python** es uno de los intérpretes más usados en robótica por su simplicidad y su gran ecosistema de librerías. En Jupyter, se puede combinar código Python con explicaciones en texto.\n",
    "\n",
    "\n",
    "\n",
    "- <img src=\"images/Git-logo.png\" height=60/> **Git** es un sistema de control de versiones que permite llevar un historial de cambios en los archivos de una carpeta (repositorio), así como recuperar versiones anteriores, y trabajar en paralelo en \"*ramas*\" sin perder información. \n",
    "\n",
    "\n",
    "\n",
    "- <img src=\"images/Github-logo.png\" height=60/> **Github** es una plataforma en línea que utiliza git para almacenar repositorios. Cuenta con herramientas para colaboración en equipo, documentación y despliegue.\n",
    "\n"
   ]
  },
  {
   "cell_type": "markdown",
   "id": "0ca966a0-89c6-434c-b39d-22dc0b54cde0",
   "metadata": {},
   "source": [
    "## Cuestionario previo"
   ]
  },
  {
   "cell_type": "markdown",
   "id": "fae60cb2",
   "metadata": {},
   "source": [
    "### Responder de forma breve las siguientes preguntas:\n",
    "\n",
    "- En linux, ¿a qué se refieren los términos sh, bash y shell?\n",
    ">  - Un archivo con la extensión .sh es un archivo de comandos de lenguaje de secuencias de comandos que contiene un programa de computadora para ser ejecutado por el shell de Unix. Puede contener una serie de comandos que se ejecutan secuencialmente para realizar operaciones como procesamiento de archivos, ejecución de programas y otras tareas similares. Estos se ejecutan desde la interfaz de línea de comandos por el usuario o por lotes para realizar múltiples operaciones al mismo tiempo. \n",
    ">  - Bash (acrónimo de Bourne-Again Shell) es un intérprete de comandos y lenguaje de programación integrado que corre bajo el macroprocesador Shell de Unix.\n",
    "Este programa ejecuta una a una las órdenes que el usuario pone en una ventana de texto o las que se encuentran contenidas en un script o bash script (archivo con todas las instrucciones), para luego devolver los resultados. En la actualidad, Bash es el intérprete predeterminado en gran parte de los sistemas GNU/Linux y funciona en la mayoría de sistemas de Unix. \n",
    ">  - El shell es la capa más externa del sistema operativo. Los shells incorporan un lenguaje de programación para controlar procesos y archivos, además de iniciar y controlar otros programas. El shell gestiona la interacción entre el usuario y el sistema operativo solicitándole la entrada, interpretando dicha entrada para el sistema operativo y gestionando cualquier resultado de salida procedente del sistema operativo.\n",
    "- ¿Python se considera un lenguaje de programación? ¿Por qué?\n",
    "> A pesar de que Python es ampliamente considerado como un lenguaje de programación, se puede clasificar en una mejor categoría, que es como lenguaje de programación interpretado, el cual es aquel en el que un programa llamado “intérprete” se encarga de ejecutar el código fuente línea por línea, en tiempo real. Esto significa que, en lugar de traducir todo el programa a un formato ejecutable antes de su ejecución (como en los lenguajes compilados), el intérprete toma cada línea de código, la traduce a un código de máquina o bytecode y luego la ejecuta de inmediato.\n",
    "- ¿Qué lenguajes o intérpretes se pueden usar en Jupyter?\n",
    "> Jupyter es compatible con más de 100 lenguajes de programación a través de sus \"kernels\", que son entornos de ejecución para cada lenguaje. Además de su uso principal con Python (a través del kernel IPython), puedes usar R, Julia, Scala, Matlab, Perl, Haskell, JavaScript, y muchos otros. La disponibilidad de estos lenguajes dependerá de qué kernels estén instalados en tu entorno de Jupyter. \n",
    "- ¿Cuál es la diferencia entre Git y GitHub?\n",
    "> En primer lugar, Git es un sistema de control de versiones que rastrea los cambios en el código, funciona localmente en una máquina, es de código abierto y su interfaz consiste en una terminal (línea de comandos), mientras que GitHub es una plataforma de alojamiento en la nube para repositorios Git, la cual requiere una conexión a Internet para acceder a los repositorios, proporciona herramientas de colaboración y gestión de proyectos, admite autenticación de usuarios, control de acceso y permisos basados en funciones y cuenta con una interfaz gráfica. \n",
    "\n",
    "*En caso de integrar imagenes, colocarlas en la carpeta \"imagenes\"*"
   ]
  },
  {
   "cell_type": "markdown",
   "id": "fdcc24d0-38ff-4ca9-b068-35a9d34dfc10",
   "metadata": {},
   "source": [
    "## Desarrollo"
   ]
  },
  {
   "cell_type": "markdown",
   "id": "8ea2d641",
   "metadata": {},
   "source": [
    "### 1. Manejo de Ubuntu"
   ]
  },
  {
   "cell_type": "markdown",
   "id": "65bfe09f",
   "metadata": {},
   "source": [
    "En este primera parte, se creará un archivo .bash que:\n",
    "- Despliegue un mensaje de inicio\n",
    "- Se mueva a la carpeta de usuario\n",
    "- En caso de que no exista la carpeta \"Practica1\" la cree\n",
    "- Dentro, cree la carpeta \"Letras\" con los archivos \n",
    "    - a.txt\n",
    "    - b.txt\n",
    "    - c.txt\n",
    "- Dentro de la misma carpeta, cree la carpeta \"Integrantes\" con los archivos \n",
    "    - Nombre1.txt\n",
    "    - Nombre2.txt\n",
    "    - Nombre3.txt\n",
    "  \n",
    "  Siendo \"NombreN\" el nombre de cada integrante del equipo (sin espacios)\n",
    "- Despliegue un diagrama de la estructura de la carpeta \"Practica1\", con sus subcarpetas y archivos\n",
    "- Elimine la carpeta \"Practica1\", con sus subcarpetas y archivos\n",
    "- Conceder permisos de administrador al archivo y correrlo\n",
    "\n",
    "Como probatorios: \n",
    "- Incluir la imagen en una nueva celda.\n",
    "- Incluir el código en otra nueva celda."
   ]
  },
  {
   "cell_type": "markdown",
   "id": "f6d94a58-2e5c-45b5-9ee7-b03467425983",
   "metadata": {},
   "source": [
    "<img src=\"images/p1_1.png\" height=60/> \n",
    "\n",
    "**Ubuntu**"
   ]
  },
  {
   "cell_type": "markdown",
   "id": "39a57dfd-b030-45ff-bcc7-a342e615ecc2",
   "metadata": {},
   "source": [
    "~~~bash\n",
    "echo \"Mensaje de Inicio\"\n",
    "echo \"------------------------------------------\"\n",
    "\n",
    "cd ~/\n",
    "#Verifica si el directorio existe\n",
    "if test -d \"Practica1\"; then\n",
    "    echo \"La carpeta 'Practica1 ya existe\"\n",
    "else\n",
    "    mkdir Practica1\n",
    "    mkdir Practica1/Letras\n",
    "    touch Practica1/Letras/a.txt\n",
    "    touch Practica1/Letras/b.txt\n",
    "    touch Practica1/Letras/c.txt\n",
    "    mkdir Practica1/Integrantes\n",
    "    touch Practica1/Integrantes/delunajose.txt\n",
    "    touch Practica1/Integrantes/mejiarodrigo.txt\n",
    "    touch Practica1/Integrantes/valdezjulio.txt\n",
    "fi\n",
    "\n",
    "tree Practica1\n",
    "rm -r Practica1 \n",
    "~~~"
   ]
  },
  {
   "cell_type": "markdown",
   "id": "8802332e",
   "metadata": {},
   "source": [
    "### 2. Markdown"
   ]
  },
  {
   "cell_type": "markdown",
   "id": "0a4cf491",
   "metadata": {},
   "source": [
    "En esta parte, crear una celda de markdown con:\n",
    "\n",
    "- La forma general de la matriz de transformación homogénea de un sistema j respecto a un sistema i\n",
    "- La forma general de la matriz de rotación de un sistema j respecto a un sistema i respecto al eje z\n",
    "- La forma general del vector de posición de un sistema j respecto a un sistema i\n",
    "- La forma general del vector de postura para un manipulador contenido en el plano XY\n",
    "- La forma general del vector de juntas para un manipulador RRR\n",
    "\n",
    "Colocar todo dentro de una tabla de dos columnas\n",
    "|Elemento|Ecuación|\n",
    "|----------|--------|\n",
    "|Elemento 1|Ecuación|\n",
    "|Elemento 2|Ecuación|\n",
    "|...       |...     |\n",
    "|Elemento N|Ecuación|"
   ]
  },
  {
   "cell_type": "markdown",
   "id": "ca251cfe-6ab9-4304-a9be-6d789fb7eb45",
   "metadata": {},
   "source": [
    "| Elemento | Ecuación |\n",
    "|---|---|\n",
    "| **Matriz de transformación homogénea**<br>de sistema j respecto a sistema i | $${^i}T_j = \\begin{bmatrix} {^i}R_j & {^i}P_j \\\\ 0 & 1 \\end{bmatrix}$$ |\n",
    "| **Matriz de rotación**<br>de sistema j respecto a sistema i (eje Z) | $${^i}R_j = \\begin{bmatrix} \\cos\\theta & -\\sin\\theta & 0 \\\\ \\sin\\theta & \\cos\\theta & 0 \\\\ 0 & 0 & 1 \\end{bmatrix}$$ |\n",
    "| **Vector de posición**<br>de sistema j respecto a sistema i | $${^i}P_j = \\begin{bmatrix} p_x \\\\ p_y \\\\ p_z \\end{bmatrix}$$ |\n",
    "| **Vector de postura**<br>para manipulador en plano XY | $$\\xi = \\begin{bmatrix} x \\\\ y \\\\ \\phi \\end{bmatrix}$$ |\n",
    "| **Vector de juntas**<br>para manipulador RRR | $$q = \\begin{bmatrix} \\theta_1 \\\\ \\theta_2 \\\\ \\theta_3 \\end{bmatrix}$$ |"
   ]
  },
  {
   "cell_type": "markdown",
   "id": "a6d5a8da",
   "metadata": {},
   "source": [
    "### 3. Python"
   ]
  },
  {
   "cell_type": "markdown",
   "id": "f4fb68dc",
   "metadata": {},
   "source": [
    "Crear en python las siguientes celdas:\n",
    "\n",
    "- Definir una clase \"Calculadora\" con métodos \"suma\" y \"multiplicación\" que tomen dos parámetros y regresen el resultado de la operación\n",
    "- Definir una clase \"CalculadoraMultiple\" con métodos \"suma\" y \"multiplicación\" que tomen cualquier cantidad de parámetros y regresen el resultado de la operación \n",
    "- Instanciar ambas clases en una nueva celda y comprobar su funcionamiento"
   ]
  },
  {
   "cell_type": "markdown",
   "id": "c2f73df4-9219-4e45-b52c-b9442f33e902",
   "metadata": {},
   "source": [
    "## Calculadora Basica (2 parametros)"
   ]
  },
  {
   "cell_type": "code",
   "execution_count": 1,
   "id": "76e96802-e0ac-4e4b-a09b-793c77063531",
   "metadata": {},
   "outputs": [
    {
     "name": "stdout",
     "output_type": "stream",
     "text": [
      "Las operaciones a relizar \n",
      "1. Suma \n",
      "2. Multiplicacion\n"
     ]
    },
    {
     "name": "stdin",
     "output_type": "stream",
     "text": [
      "Escoge (1 o 2):  1\n",
      "Valor para a 6\n",
      "Valor para b 4\n"
     ]
    },
    {
     "name": "stdout",
     "output_type": "stream",
     "text": [
      "La suma de 6.0 + 4.0 = 10.0\n",
      "Termino del programa\n"
     ]
    }
   ],
   "source": [
    "class calculadora:\n",
    "    \n",
    "    def suma(self, a, b):\n",
    "        resultado=a+b\n",
    "        print(f\"La suma de {a} + {b} = {resultado}\")\n",
    "        return resultado\n",
    "    def multi(self, a, b):\n",
    "        resultado=a*b\n",
    "        print(f\"La multiplicacion de {a} * {b} = {resultado}\")\n",
    "        return resultado\n",
    "\n",
    "print(\"Las operaciones a relizar \\n1. Suma \\n2. Multiplicacion\")\n",
    "\n",
    "calc=calculadora()\n",
    "\n",
    "c=int(input(\"Escoge (1 o 2): \"))\n",
    "a=float(input(\"Valor para a\"))\n",
    "b=float(input(\"Valor para b\"))\n",
    "\n",
    "if c==1:\n",
    "    calc.suma(a,b)\n",
    "elif c==2:\n",
    "    calc.multi(a,b)\n",
    "else:\n",
    "    print(\"No valido\")\n",
    "\n",
    "print(\"Termino del programa\")\n",
    "\n"
   ]
  },
  {
   "cell_type": "markdown",
   "id": "45221b68-6689-495d-801b-3262792f1d67",
   "metadata": {},
   "source": [
    "## Calculadora Basica (infinita de parametros)"
   ]
  },
  {
   "cell_type": "code",
   "execution_count": 2,
   "id": "b3792fe5-cbfc-4282-84a5-95b21e17e124",
   "metadata": {},
   "outputs": [
    {
     "name": "stdout",
     "output_type": "stream",
     "text": [
      "Las operaciones a relizar \n",
      "1. Suma \n",
      "2. Multiplicacion\n"
     ]
    },
    {
     "name": "stdin",
     "output_type": "stream",
     "text": [
      "Escoge (1 o 2):  2\n",
      "Escribe los valores a operar por espacios:  2 4 5 2 9 0.5\n"
     ]
    },
    {
     "name": "stdout",
     "output_type": "stream",
     "text": [
      "El resultado de la multiplicacion es de:  360.0\n",
      "Termino del programa\n"
     ]
    }
   ],
   "source": [
    "class calculadora:\n",
    "    \n",
    "    def suma(self,numeros):\n",
    "        resultado=sum(numeros)\n",
    "        print(f\"El resultado de la suma es de: {resultado} \")\n",
    "        return resultado\n",
    "    def multi(self, numeros):\n",
    "        resultados = 1\n",
    "        for num in numeros:\n",
    "            resultados *=num\n",
    "        print(f\"El resultado de la multiplicacion es de:  {resultados}\")\n",
    "        return resultados\n",
    "\n",
    "print(\"Las operaciones a relizar \\n1. Suma \\n2. Multiplicacion\")\n",
    "\n",
    "calc=calculadora()\n",
    "\n",
    "c=int(input(\"Escoge (1 o 2): \"))\n",
    "entrada=(input(\"Escribe los valores a operar por espacios: \"))\n",
    "numeros = [float(x) for x in entrada.split()]\n",
    "\n",
    "if c == 1:\n",
    "    calc.suma(numeros)\n",
    "elif c == 2:\n",
    "    calc.multi(numeros)\n",
    "else:\n",
    "    print(\"Opción no válida\")\n",
    "\n",
    "print(\"Termino del programa\")"
   ]
  },
  {
   "cell_type": "markdown",
   "id": "d948dc9e",
   "metadata": {},
   "source": [
    "### 4. GitHub"
   ]
  },
  {
   "cell_type": "markdown",
   "id": "2943f9be",
   "metadata": {},
   "source": [
    "Generar un repositorio en línea llamado \"Robotica-2026-2\", donde se subirán los archivos de la práctica. Agregar a los miembros del equipo como colaboradores del repositorio.\n",
    "\n",
    "En la configuración del repositorio incluir  un archivo README.md, y en él colocar:\n",
    "\n",
    "- Una descripción del repositorio\n",
    "- Nombres de los integrantes del equipo\n",
    "\n",
    "Se recomienda primero crear el repositorio en línea, clonarlo en el ordenador y después incluir los archivos de la práctica. Para utilizar el repositorio para todas las prácticas posteriores, se recomienda usar la siguiente estructura de archivos:\n",
    "~~~ bash\n",
    "Robotica-2026-2/\n",
    "├── practica_1\n",
    "│   ├── images\n",
    "│   │   └── p1_1.png\n",
    "│   └── practica_1.ipynb\n",
    "├── README.md\n",
    "└── .gitignore\n",
    "~~~\n",
    "JupyterLab crea carpetas ocultas de nombre **\".ipynb_checkpoints/\"** con la versión anterior de los archivos que carga. Para evitar que estas versiones estén en el repositorio, agregaremos un archivo de configuración **\".gitignore\"**\n",
    "\n",
    "El archivo debe estar en la raíz del repositorio. Para las carpetas que queremos omitir, el archivo debe tener un renglón:\n",
    "\n",
    "> \\*\\*/.ipynb_checkpoints/\\*\n",
    "\n",
    "**Se puede usar como referencia el archivo **\".gitignore\"** de este repositorio"
   ]
  },
  {
   "attachments": {},
   "cell_type": "markdown",
   "id": "3a88c47d-d8a3-43cb-afee-5d54559450a7",
   "metadata": {
    "jp-MarkdownHeadingCollapsed": true
   },
   "source": [
    "## Análisis de resultados\n",
    "\n",
    "¿Qué utilidad tiene el uso de un repositorio en línea para código?\n",
    "> El uso de repositorios en línea como GitHub proporciona una solución general para el desarrollo de cualquier proyecto que involucre la realización e implementación de un código, ofreciendo ventajas como el control de versiones para mantener un historial completo de cambios, y así dar seguimiento a las modificaciones y tener acceso a la reversión a versiones anteriores cuando sea necesario. También permite una colaboración eficiente, permitiendo que múltiples desarrolladores trabajen de manera coordinada, así mismo dar acceso, disponibilidad, seguridad y respaldo al código al estar alojado en la nube, así como una interfaz de fácil interacción. De tal forma que GitHub como plataforma de colaboración en la nube crea un ambiente completo que optimiza el desarrollo de cualquier proyecto de software.\n"
   ]
  },
  {
   "cell_type": "markdown",
   "id": "ed674101-3cbf-4c0e-b0cc-dcddfb09fba5",
   "metadata": {},
   "source": [
    "## Conclusiones\n",
    "\n",
    "Esta práctica permitió familiarizarse con algunas herramientas básicas del entorno de trabajo, incluyendo Ubuntu, Python, Jupyter y GitHub. A través de su aplicación, se fortalecieron habilidades esenciales para el manejo y documentación de proyectos de ingeniería, así como la integración de código y texto en un solo entorno.\n",
    "Además, esta experiencia ayudó a comprender la importancia de utilizar plataformas de control de versiones y entornos de programación integrados para optimizar el flujo de trabajo. El uso de estas herramientas fomenta la organización, la trazabilidad de los proyectos y la capacidad de trabajo en equipo, elementos fundamentales para el desempeño profesional en el campo de la mecatrónica.\n",
    "En general, la actividad contribuyó al desarrollo de competencias técnicas y profesionales necesarias para el trabajo colaborativo y la gestión eficiente de proyectos mecatrónicos, que para el caso de la materia, es esencial contar con estas y otras herramientas para llevar un orden en cuanto al planteamiento, diseño, control y automatización, así como la documentación de todo lo anterior, sobre el desarrollo de un robot, o cualquier otro sistema mecatrónico. \n",
    "\n",
    "\n",
    "## Bibliografía \n",
    "\n",
    "Se deben hacer referencia a la información implementada en formato ieee\n",
    "- Azul School, \"Python: un lenguaje interpretado,\" Azul School. [En línea]. Disponible: https://azulschool.net/python-un-lenguaje-interpretado/\n",
    "- DataCamp, \"Git vs. GitHub,\" DataCamp. [En línea]. Disponible: https://www.datacamp.com/es/blog/git-vs-github\n",
    "- \"Documentación de formatos de archivo SH,\" FileFormat.com. [En línea]. Disponible: https://docs.fileformat.com/es/programming/sh/\n",
    "- E. F. Viodo, \"Conceptos Básicos: Jupyter Notebooks y Python,\" GitHub. [En línea]. Disponible: https://colab.research.google.com/github/efviodo/idatha-data-science-course/blob/master/notebooks/01%20-%20DS%20-%20Conceptos%20Basicos%20Jupyter%20Notebooks%20-%20Python.ipynb\n",
    "- IBM, \"Shells del sistema operativo,\" IBM Documentation, vol. 7.1.0. [En línea]. Disponible: https://www.ibm.com/docs/es/aix/7.1.0?topic=administration-operating-system-shells\n",
    "- KeepCoding, \"¿Qué es Bash Shell y cómo funciona?,\" KeepCoding.io. [En línea]. Disponible: https://keepcoding.io/blog/que-es-bash-shell-y-como-funciona/\n"
   ]
  }
 ],
 "metadata": {
  "kernelspec": {
   "display_name": "Python 3 (ipykernel)",
   "language": "python",
   "name": "python3"
  },
  "language_info": {
   "codemirror_mode": {
    "name": "ipython",
    "version": 3
   },
   "file_extension": ".py",
   "mimetype": "text/x-python",
   "name": "python",
   "nbconvert_exporter": "python",
   "pygments_lexer": "ipython3",
   "version": "3.10.12"
  }
 },
 "nbformat": 4,
 "nbformat_minor": 5
}
